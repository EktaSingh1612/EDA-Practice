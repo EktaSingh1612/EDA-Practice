{
 "cells": [
  {
   "cell_type": "markdown",
   "id": "ec0d75f8-5a86-4365-820b-29c793981c89",
   "metadata": {},
   "source": [
    "# IPL 2022 Player Statistics\n",
    "Dataset link:- https://www.kaggle.com/datasets/vora1011/ipl-2022-player-statistics\n",
    "\n",
    "## About Dataset\n",
    "### Context\n",
    "\n",
    "Many of us have watched the movie Moneyball. The film summarizes that with proper scouting and believing in the statistics of players, a great team can be built. However, this analysis can be done with an excellent dataset to help analyze the players, strengths, and weaknesses.\n",
    "So with the new season of IPL starting very soon and with the squad finalized, this dataset is a concise dataset to get statistics of all the players. All you need now is to get this data and start analyzing it to make your dream team, which can also help you play all the fantasy leagues coming your way.\n",
    "\n",
    "### Content\n",
    "\n",
    "This datasheet has a single CSV file with all players in the list. It contains details of each player's all-time batting, bowling, and fielding figures in IPL and T20 Matches. \n",
    "File IPLData.csv contains details of all players with their all-time IPL stats.\n",
    "File T20Data.csv contains details of all players with their all-time T20 stats, either international or domestic, apart from IPL.\n",
    "\n",
    "\n",
    "## Importing Important libraries"
   ]
  },
  {
   "cell_type": "code",
   "execution_count": null,
   "id": "b3cd0d85-e922-49b7-9530-ef7ed74c9fef",
   "metadata": {},
   "outputs": [],
   "source": [
    "import pandas as pd\n",
    "import numpy as np\n",
    "import matplotlib.pyplot as plt\n",
    "import seaborn as sns\n",
    "%matplotlib inline\n",
    "import warnings\n",
    "warnings.filterwarnings('ignore')"
   ]
  },
  {
   "cell_type": "markdown",
   "id": "5d3440c6-a65c-4d96-bb14-7ac431d3e5d3",
   "metadata": {},
   "source": [
    "## Importing dataset"
   ]
  },
  {
   "cell_type": "code",
   "execution_count": null,
   "id": "77ea0759-04c4-4778-a910-82888f06a959",
   "metadata": {},
   "outputs": [],
   "source": [
    "df=pd.read_csv('ipl_2022_dataset.csv')\n",
    "df.head(5)"
   ]
  },
  {
   "cell_type": "code",
   "execution_count": null,
   "id": "94dec95c-373a-4b4b-9c89-1ae1568611bf",
   "metadata": {},
   "outputs": [],
   "source": [
    "df.shape"
   ]
  },
  {
   "cell_type": "markdown",
   "id": "ac443987-4909-4bab-beeb-64715a2b4c19",
   "metadata": {},
   "source": [
    "#### So there are total of 633 players in this auction."
   ]
  },
  {
   "cell_type": "code",
   "execution_count": null,
   "id": "e705793d-d3a2-4ed3-a763-6727bde490de",
   "metadata": {},
   "outputs": [],
   "source": [
    "df.columns"
   ]
  },
  {
   "cell_type": "markdown",
   "id": "b04a3f4b-b702-4088-8c42-c6a19bbaab96",
   "metadata": {},
   "source": [
    "## Data Preprocessing"
   ]
  },
  {
   "cell_type": "code",
   "execution_count": null,
   "id": "a77dee9c-b40a-4b69-809b-a81f85056657",
   "metadata": {},
   "outputs": [],
   "source": [
    "# since ther's an unnecessary column called unnamed so removing it\n",
    "df.drop('Unnamed: 0',axis=1,inplace=True)\n",
    "df.head(2)"
   ]
  },
  {
   "cell_type": "code",
   "execution_count": null,
   "id": "a3112fbf-aed4-400e-aa1a-f5d6b6ecee33",
   "metadata": {},
   "outputs": [],
   "source": [
    "df.info()"
   ]
  },
  {
   "cell_type": "code",
   "execution_count": null,
   "id": "aeefca5f-351f-4410-86df-763bfada35ec",
   "metadata": {},
   "outputs": [],
   "source": [
    "# finding out the null values\n",
    "df.isnull().sum()"
   ]
  },
  {
   "cell_type": "code",
   "execution_count": null,
   "id": "17948749-bb83-43dc-a654-e0eb4b2b9bb2",
   "metadata": {},
   "outputs": [],
   "source": [
    "# let's check why there are so many null values in Cost column\n",
    "\n",
    "df[df['COST IN ₹ (CR.)'].isnull()]"
   ]
  },
  {
   "cell_type": "markdown",
   "id": "3d058fb1-2177-4138-a71a-118e9971c637",
   "metadata": {},
   "source": [
    "#### So from here we can see that the cost column has so many NaN values because they all were unsold in this 2022 IPL. Hence we can fill these NaN values as 0.\n",
    "\n",
    "Also there's no need of Cost in Dollar column so dropping it."
   ]
  },
  {
   "cell_type": "code",
   "execution_count": null,
   "id": "8acef18b-5c15-4634-bcc8-7952bdc30adc",
   "metadata": {},
   "outputs": [],
   "source": [
    "# Renaming 'COST IN ₹ (CR.)' to bit simpler\n",
    "df.rename(columns = {'COST IN ₹ (CR.)':'COST IN CR'}, inplace = True)"
   ]
  },
  {
   "cell_type": "code",
   "execution_count": null,
   "id": "23a916d5-b074-4167-b1b1-a3f4eb02a61d",
   "metadata": {},
   "outputs": [],
   "source": [
    "df.drop('Cost IN $ (000)', axis=1, inplace=True)"
   ]
  },
  {
   "cell_type": "code",
   "execution_count": null,
   "id": "11e5e69e-f5dc-4aae-816c-ffa2496bdde8",
   "metadata": {},
   "outputs": [],
   "source": [
    "df['COST IN CR']=df['COST IN CR'].fillna(0)\n",
    "df.isnull().sum()"
   ]
  },
  {
   "cell_type": "code",
   "execution_count": null,
   "id": "912b6035-b1b1-4d6b-8b92-a6c5f5685f86",
   "metadata": {},
   "outputs": [],
   "source": [
    "# Now lets check why there are so many null values in 2021 Squad\n",
    "df[df['2021 Squad'].isnull()]"
   ]
  },
  {
   "cell_type": "markdown",
   "id": "67fda641-398b-4cab-ab9c-0ebaffe448b6",
   "metadata": {},
   "source": [
    "#### So these players are the new enterants in 2022 or remain unsold in 2021 autions. Hence we will fill those NaN values with 'Not Participated'"
   ]
  },
  {
   "cell_type": "code",
   "execution_count": null,
   "id": "e2e7edbb-3a2f-4dfc-bf2a-ff5360c4091d",
   "metadata": {},
   "outputs": [],
   "source": [
    "df['2021 Squad']=df['2021 Squad'].fillna('Not Participated')\n",
    "df.isnull().sum()"
   ]
  },
  {
   "cell_type": "markdown",
   "id": "727b1c16-eb79-4fdc-9cf5-e90b247de9a9",
   "metadata": {},
   "source": [
    "## Exploratory Data Analysis\n",
    "\n",
    "### Lets just create a column of all the players to check there status as sold or unsold."
   ]
  },
  {
   "cell_type": "code",
   "execution_count": null,
   "id": "2f0d3891-2654-45f8-b8e2-3ab8687127c6",
   "metadata": {},
   "outputs": [],
   "source": [
    "# making a variable as teams and storing name of all the team names  \n",
    "teams = df[df['COST IN CR']>0]['Team'].unique()\n",
    "teams"
   ]
  },
  {
   "cell_type": "code",
   "execution_count": null,
   "id": "d8defba0-7106-4c55-9a5a-5c605b4b1d69",
   "metadata": {},
   "outputs": [],
   "source": [
    "# making another column just to check the status of player i.e, whether the player is sold or unsold\n",
    "df['Status']= df['Team'].replace(teams,'sold')\n",
    "df.head(5)"
   ]
  },
  {
   "cell_type": "code",
   "execution_count": null,
   "id": "94ff14fc-a801-480a-b284-1fc3fb143025",
   "metadata": {},
   "outputs": [],
   "source": [
    "df[df['Player'].duplicated(keep=False)]"
   ]
  },
  {
   "cell_type": "markdown",
   "id": "59978226-ad0f-4f04-bd06-af39737d9a19",
   "metadata": {},
   "source": [
    "### How many players have participated in 2022 auction?"
   ]
  },
  {
   "cell_type": "code",
   "execution_count": null,
   "id": "0be7bf07-3118-4888-9a0a-c48b9264e2cb",
   "metadata": {},
   "outputs": [],
   "source": [
    "df.shape[0]"
   ]
  },
  {
   "cell_type": "markdown",
   "id": "90baf906-bfdb-48fd-ae5d-a3adeb58df6d",
   "metadata": {},
   "source": [
    "### What is the distribution of players that have participated according to their expertise?"
   ]
  },
  {
   "cell_type": "code",
   "execution_count": null,
   "id": "33879954-4c5a-4c4e-8a01-e22d86af752e",
   "metadata": {},
   "outputs": [],
   "source": [
    "# storing this value inside a variable\n",
    "types=df['TYPE'].value_counts()\n",
    "types.reset_index()"
   ]
  },
  {
   "cell_type": "code",
   "execution_count": null,
   "id": "39fe5a60-1795-4ea5-961b-5145b251cfb6",
   "metadata": {},
   "outputs": [],
   "source": [
    "# making a pie chart so as to viualize it as well as to know the percentage distribution\n",
    "plt.pie(types.values, labels=types.index, labeldistance=1.2, autopct='%1.2f%%', shadow=True, startangle=60)\n",
    "plt.title('Role of players participated', fontsize=15)"
   ]
  },
  {
   "cell_type": "code",
   "execution_count": null,
   "id": "eaa930f9-19d7-4d8d-9b22-94918a36c742",
   "metadata": {},
   "outputs": [],
   "source": [
    "# Players sold and unsold using a bar graph\n",
    "\n",
    "plt.figure(figsize=(10,5))\n",
    "fig=sns.countplot(df['Status'],palette=['Orange','Blue'])\n",
    "plt.xlabel('Sold or unsold')\n",
    "plt.ylabel('No. of players')\n",
    "plt.title('Sold vs unsold', fontsize=15)\n",
    "\n",
    "#to display labels:-\n",
    "for p in fig.patches:\n",
    "    fig.annotate(format(p.get_height(), '.0f'),(p.get_x()+p.get_width()/2., p.get_height()), ha='center', va='center',\n",
    "                 xytext=(0,4),textcoords='offset points')"
   ]
  },
  {
   "cell_type": "code",
   "execution_count": null,
   "id": "64395f23-e2d4-40d2-b6ff-09919d2a8bac",
   "metadata": {},
   "outputs": [],
   "source": [
    "df.groupby('Status')['Player'].count()"
   ]
  },
  {
   "cell_type": "markdown",
   "id": "d212e905-f1ab-42a1-b809-471172ac39df",
   "metadata": {},
   "source": [
    "### Total no. of players bought by each team"
   ]
  },
  {
   "cell_type": "code",
   "execution_count": null,
   "id": "0ec326b6-2d23-496f-b5bb-0eb4fbbaa6a9",
   "metadata": {},
   "outputs": [],
   "source": [
    "plt.figure(figsize=(20,10))\n",
    "fig = sns.countplot(df[df['Team']!='Unsold']['Team'])\n",
    "plt.xlabel('Team Names')\n",
    "plt.ylabel('Number of Players')\n",
    "plt.title('Players bought by each team', fontsize=12)\n",
    "plt.xticks(rotation=70)\n",
    "\n",
    "#to display labels:-\n",
    "for p in fig.patches:\n",
    "    fig.annotate(format(p.get_height(), '.0f'),(p.get_x()+p.get_width()/2., p.get_height()), ha='center', va='center',\n",
    "                 xytext=(0,4),textcoords='offset points')"
   ]
  },
  {
   "cell_type": "code",
   "execution_count": null,
   "id": "54a7a987-8551-4423-b6f4-92bd391b301b",
   "metadata": {},
   "outputs": [],
   "source": [
    "df['Base Price'].unique()"
   ]
  },
  {
   "cell_type": "code",
   "execution_count": null,
   "id": "d906872a-d81d-49d7-9177-d876e9074c83",
   "metadata": {},
   "outputs": [],
   "source": [
    "# making new column to normalize the values as came from auction and one who are retained in the team.\n",
    "df['Retention']=df['Base Price']\n",
    "\n",
    "df['Retention'].replace(['2 Cr', '40 Lakh', '20 Lakh', '1 Cr', '75 Lakh',\n",
    "       '50 Lakh', '30 Lakh', '1.5 Cr'], 'From Auction', inplace=True)"
   ]
  },
  {
   "cell_type": "code",
   "execution_count": null,
   "id": "117cc27d-5c34-4b6c-925e-1d63a3bf81ae",
   "metadata": {},
   "outputs": [],
   "source": [
    "df['Base Price'].replace('Draft Pick', 0, inplace=True)\n",
    "df.head(5)"
   ]
  },
  {
   "cell_type": "code",
   "execution_count": null,
   "id": "29b13b0b-23b0-4e56-8ebb-2a110d80092b",
   "metadata": {},
   "outputs": [],
   "source": [
    "# making 2 more columns for segregate base price from its unit.\n",
    "df['base_price_unit']=df['Base Price'].apply(lambda x:str(x).split(' ')[-1])\n",
    "df['base_price']=df['Base Price'].apply(lambda x:str(x).split(' ')[0])"
   ]
  },
  {
   "cell_type": "code",
   "execution_count": null,
   "id": "9ae09d31-1531-407f-993b-5b70b7f1c16f",
   "metadata": {},
   "outputs": [],
   "source": [
    "df['base_price'].replace('Retained',0,inplace=True)\n",
    "df.head(5)"
   ]
  },
  {
   "cell_type": "code",
   "execution_count": null,
   "id": "53e0f31c-5a1e-4ff3-9830-59bb083478f7",
   "metadata": {},
   "outputs": [],
   "source": [
    "# Total players retained and bought\n",
    "rt=df.groupby(['Team','Retention'])['Retention'].count()"
   ]
  },
  {
   "cell_type": "code",
   "execution_count": null,
   "id": "32e835cf-202d-4b63-be2d-2d02770169a0",
   "metadata": {},
   "outputs": [],
   "source": [
    "plt.figure(figsize=(20,10))\n",
    "fig = sns.countplot(df[df['Team']!='Unsold']['Team'],hue=df['TYPE'])\n",
    "plt.title('Player in each team',fontsize=15)\n",
    "plt.xlabel('Team Names')\n",
    "plt.ylabel('Number of Players')\n",
    "plt.xticks(rotation=50)"
   ]
  },
  {
   "cell_type": "markdown",
   "id": "209f5f21-ee80-4091-9812-e05b4ec59ca6",
   "metadata": {},
   "source": [
    "### Highest amount spent on a single player by each team"
   ]
  },
  {
   "cell_type": "code",
   "execution_count": null,
   "id": "506eaf49-dd1a-4a33-90b7-53a2c5a291a5",
   "metadata": {},
   "outputs": [],
   "source": [
    "df[df['Retention']=='From Auction'].groupby(['Team'])['COST IN CR'].max()[:-1].sort_values(ascending=False)"
   ]
  },
  {
   "cell_type": "markdown",
   "id": "aa337a03-e806-4853-83c3-d6c6b9cd6be6",
   "metadata": {},
   "source": [
    "### Player retained at maximum price"
   ]
  },
  {
   "cell_type": "code",
   "execution_count": null,
   "id": "91393d7e-87c9-43a2-a209-a2023c91c697",
   "metadata": {},
   "outputs": [],
   "source": [
    "df[df['Retention']=='Retained'].sort_values(by='COST IN CR',ascending =False)"
   ]
  },
  {
   "cell_type": "markdown",
   "id": "760bb96d-8fc2-4b62-ad44-ac28ee6e65d8",
   "metadata": {},
   "source": [
    "### Top 5 bowlers"
   ]
  },
  {
   "cell_type": "code",
   "execution_count": null,
   "id": "5d8b73ed-1e0d-47b4-90c3-8f1fe65e9170",
   "metadata": {},
   "outputs": [],
   "source": [
    "df[(df['Retention']=='From Auction') & (df['TYPE']=='BOWLER')].sort_values(by = 'COST IN CR', ascending=False).head(5)"
   ]
  },
  {
   "cell_type": "markdown",
   "id": "5b7481c8-7f06-4a5a-91a3-3f3a56a26868",
   "metadata": {},
   "source": [
    "### Top 5 Batsman"
   ]
  },
  {
   "cell_type": "code",
   "execution_count": null,
   "id": "ed58822a-8efe-413e-aaa3-489b3bb950d6",
   "metadata": {},
   "outputs": [],
   "source": [
    "df[(df['Retention']=='From Auction') & (df['TYPE']=='BATTER')].sort_values(by = 'COST IN CR', ascending=False).head(5)"
   ]
  },
  {
   "cell_type": "markdown",
   "id": "08078d16-c359-49c3-af97-4ca7cbaff0ed",
   "metadata": {},
   "source": [
    "### Top 5 ALL ROUNDER"
   ]
  },
  {
   "cell_type": "code",
   "execution_count": null,
   "id": "4bab00f7-3427-44ac-96d6-d722a2933f40",
   "metadata": {},
   "outputs": [],
   "source": [
    "df[(df['Retention']=='From Auction') & (df['TYPE']=='ALL-ROUNDER')].sort_values(by = 'COST IN CR', ascending=False).head(5)"
   ]
  },
  {
   "cell_type": "markdown",
   "id": "5670caef-b8c7-410b-8d3f-5a9c52f037c0",
   "metadata": {},
   "source": [
    "### All the players that remained unsold or not participated in 2022 IPL Auction"
   ]
  },
  {
   "cell_type": "code",
   "execution_count": null,
   "id": "ff25ebd2-e110-4ea5-b17d-3c1102d53a94",
   "metadata": {},
   "outputs": [],
   "source": [
    "unsold_players=df[(df['2021 Squad'] != 'Not Participated') & (df.Team=='Unsold')][['Player','2021 Squad']]\n",
    "unsold_players"
   ]
  }
 ],
 "metadata": {
  "kernelspec": {
   "display_name": "Python 3 (ipykernel)",
   "language": "python",
   "name": "python3"
  },
  "language_info": {
   "codemirror_mode": {
    "name": "ipython",
    "version": 3
   },
   "file_extension": ".py",
   "mimetype": "text/x-python",
   "name": "python",
   "nbconvert_exporter": "python",
   "pygments_lexer": "ipython3",
   "version": "3.8.8"
  }
 },
 "nbformat": 4,
 "nbformat_minor": 5
}
