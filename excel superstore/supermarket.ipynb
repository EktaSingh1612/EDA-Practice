{
 "cells": [
  {
   "cell_type": "code",
   "execution_count": 1,
   "id": "33d98aba-ca32-42e1-9ae3-f6fbf99c5778",
   "metadata": {},
   "outputs": [
    {
     "name": "stdout",
     "output_type": "stream",
     "text": [
      "Requirement already satisfied: openpyxl in /opt/anaconda3/lib/python3.8/site-packages (3.0.9)\n",
      "Requirement already satisfied: et-xmlfile in /opt/anaconda3/lib/python3.8/site-packages (from openpyxl) (1.1.0)\n"
     ]
    }
   ],
   "source": [
    "! pip install openpyxl"
   ]
  },
  {
   "cell_type": "markdown",
   "id": "d7306e3c-be59-4e69-9e5a-d69380fa51fb",
   "metadata": {},
   "source": [
    "## Importing libraries"
   ]
  },
  {
   "cell_type": "code",
   "execution_count": 2,
   "id": "844e74a3-4ee3-4176-9668-89e40d63fb75",
   "metadata": {},
   "outputs": [],
   "source": [
    "import pandas as pd\n",
    "import openpyxl\n",
    "from openpyxl import load_workbook\n",
    "from openpyxl.styles import Font\n",
    "from openpyxl.chart import BarChart, Reference\n",
    "import string"
   ]
  },
  {
   "cell_type": "markdown",
   "id": "20e93a26-ca8f-4cae-94bb-df092229faf7",
   "metadata": {},
   "source": [
    "## Reading the excel file"
   ]
  },
  {
   "cell_type": "code",
   "execution_count": 3,
   "id": "43bacd57-c29c-41f6-b1f2-ee0837371f7e",
   "metadata": {},
   "outputs": [
    {
     "data": {
      "text/html": [
       "<div>\n",
       "<style scoped>\n",
       "    .dataframe tbody tr th:only-of-type {\n",
       "        vertical-align: middle;\n",
       "    }\n",
       "\n",
       "    .dataframe tbody tr th {\n",
       "        vertical-align: top;\n",
       "    }\n",
       "\n",
       "    .dataframe thead th {\n",
       "        text-align: right;\n",
       "    }\n",
       "</style>\n",
       "<table border=\"1\" class=\"dataframe\">\n",
       "  <thead>\n",
       "    <tr style=\"text-align: right;\">\n",
       "      <th></th>\n",
       "      <th>Gender</th>\n",
       "      <th>Product line</th>\n",
       "      <th>Total</th>\n",
       "    </tr>\n",
       "  </thead>\n",
       "  <tbody>\n",
       "    <tr>\n",
       "      <th>0</th>\n",
       "      <td>Female</td>\n",
       "      <td>Health and beauty</td>\n",
       "      <td>548.9715</td>\n",
       "    </tr>\n",
       "    <tr>\n",
       "      <th>1</th>\n",
       "      <td>Female</td>\n",
       "      <td>Electronic accessories</td>\n",
       "      <td>80.2200</td>\n",
       "    </tr>\n",
       "    <tr>\n",
       "      <th>2</th>\n",
       "      <td>Male</td>\n",
       "      <td>Home and lifestyle</td>\n",
       "      <td>340.5255</td>\n",
       "    </tr>\n",
       "    <tr>\n",
       "      <th>3</th>\n",
       "      <td>Male</td>\n",
       "      <td>Health and beauty</td>\n",
       "      <td>489.0480</td>\n",
       "    </tr>\n",
       "    <tr>\n",
       "      <th>4</th>\n",
       "      <td>Male</td>\n",
       "      <td>Sports and travel</td>\n",
       "      <td>634.3785</td>\n",
       "    </tr>\n",
       "    <tr>\n",
       "      <th>...</th>\n",
       "      <td>...</td>\n",
       "      <td>...</td>\n",
       "      <td>...</td>\n",
       "    </tr>\n",
       "    <tr>\n",
       "      <th>995</th>\n",
       "      <td>Male</td>\n",
       "      <td>Health and beauty</td>\n",
       "      <td>42.3675</td>\n",
       "    </tr>\n",
       "    <tr>\n",
       "      <th>996</th>\n",
       "      <td>Female</td>\n",
       "      <td>Home and lifestyle</td>\n",
       "      <td>1022.4900</td>\n",
       "    </tr>\n",
       "    <tr>\n",
       "      <th>997</th>\n",
       "      <td>Male</td>\n",
       "      <td>Food and beverages</td>\n",
       "      <td>33.4320</td>\n",
       "    </tr>\n",
       "    <tr>\n",
       "      <th>998</th>\n",
       "      <td>Male</td>\n",
       "      <td>Home and lifestyle</td>\n",
       "      <td>69.1110</td>\n",
       "    </tr>\n",
       "    <tr>\n",
       "      <th>999</th>\n",
       "      <td>Female</td>\n",
       "      <td>Fashion accessories</td>\n",
       "      <td>649.2990</td>\n",
       "    </tr>\n",
       "  </tbody>\n",
       "</table>\n",
       "<p>1000 rows × 3 columns</p>\n",
       "</div>"
      ],
      "text/plain": [
       "     Gender            Product line      Total\n",
       "0    Female       Health and beauty   548.9715\n",
       "1    Female  Electronic accessories    80.2200\n",
       "2      Male      Home and lifestyle   340.5255\n",
       "3      Male       Health and beauty   489.0480\n",
       "4      Male       Sports and travel   634.3785\n",
       "..      ...                     ...        ...\n",
       "995    Male       Health and beauty    42.3675\n",
       "996  Female      Home and lifestyle  1022.4900\n",
       "997    Male      Food and beverages    33.4320\n",
       "998    Male      Home and lifestyle    69.1110\n",
       "999  Female     Fashion accessories   649.2990\n",
       "\n",
       "[1000 rows x 3 columns]"
      ]
     },
     "execution_count": 3,
     "metadata": {},
     "output_type": "execute_result"
    }
   ],
   "source": [
    "excel_file=pd.read_excel('supermarket_sales.xlsx')\n",
    "excel_file[['Gender','Product line','Total']]"
   ]
  },
  {
   "cell_type": "markdown",
   "id": "3edf1178-a0a3-497f-8dfd-0b052ad4093f",
   "metadata": {},
   "source": [
    "## Making a pivot table"
   ]
  },
  {
   "cell_type": "code",
   "execution_count": 4,
   "id": "6da931bb-87a6-4527-9f0f-ba8bdc782f8b",
   "metadata": {},
   "outputs": [],
   "source": [
    "report_table = excel_file.pivot_table(index='Gender',columns='Product line',values='Total',aggfunc='sum').round(0)"
   ]
  },
  {
   "cell_type": "code",
   "execution_count": 5,
   "id": "9adf4bee-256f-4613-922e-1c5deea75279",
   "metadata": {},
   "outputs": [
    {
     "data": {
      "text/html": [
       "<div>\n",
       "<style scoped>\n",
       "    .dataframe tbody tr th:only-of-type {\n",
       "        vertical-align: middle;\n",
       "    }\n",
       "\n",
       "    .dataframe tbody tr th {\n",
       "        vertical-align: top;\n",
       "    }\n",
       "\n",
       "    .dataframe thead th {\n",
       "        text-align: right;\n",
       "    }\n",
       "</style>\n",
       "<table border=\"1\" class=\"dataframe\">\n",
       "  <thead>\n",
       "    <tr style=\"text-align: right;\">\n",
       "      <th>Product line</th>\n",
       "      <th>Electronic accessories</th>\n",
       "      <th>Fashion accessories</th>\n",
       "      <th>Food and beverages</th>\n",
       "      <th>Health and beauty</th>\n",
       "      <th>Home and lifestyle</th>\n",
       "      <th>Sports and travel</th>\n",
       "    </tr>\n",
       "    <tr>\n",
       "      <th>Gender</th>\n",
       "      <th></th>\n",
       "      <th></th>\n",
       "      <th></th>\n",
       "      <th></th>\n",
       "      <th></th>\n",
       "      <th></th>\n",
       "    </tr>\n",
       "  </thead>\n",
       "  <tbody>\n",
       "    <tr>\n",
       "      <th>Female</th>\n",
       "      <td>27102.0</td>\n",
       "      <td>30437.0</td>\n",
       "      <td>33171.0</td>\n",
       "      <td>18561.0</td>\n",
       "      <td>30037.0</td>\n",
       "      <td>28575.0</td>\n",
       "    </tr>\n",
       "    <tr>\n",
       "      <th>Male</th>\n",
       "      <td>27236.0</td>\n",
       "      <td>23868.0</td>\n",
       "      <td>22974.0</td>\n",
       "      <td>30633.0</td>\n",
       "      <td>23825.0</td>\n",
       "      <td>26548.0</td>\n",
       "    </tr>\n",
       "  </tbody>\n",
       "</table>\n",
       "</div>"
      ],
      "text/plain": [
       "Product line  Electronic accessories  Fashion accessories  Food and beverages  \\\n",
       "Gender                                                                          \n",
       "Female                       27102.0              30437.0             33171.0   \n",
       "Male                         27236.0              23868.0             22974.0   \n",
       "\n",
       "Product line  Health and beauty  Home and lifestyle  Sports and travel  \n",
       "Gender                                                                  \n",
       "Female                  18561.0             30037.0            28575.0  \n",
       "Male                    30633.0             23825.0            26548.0  "
      ]
     },
     "execution_count": 5,
     "metadata": {},
     "output_type": "execute_result"
    }
   ],
   "source": [
    "report_table"
   ]
  },
  {
   "cell_type": "markdown",
   "id": "5e3a86dc-2c43-4e48-ae16-b57cc5df7dcd",
   "metadata": {},
   "source": [
    "## Exporting pivot table to excel file"
   ]
  },
  {
   "cell_type": "code",
   "execution_count": 6,
   "id": "656b681e-4ea4-4742-a04e-b3520f850590",
   "metadata": {},
   "outputs": [],
   "source": [
    "report_table.to_excel('report_2021.xlsx',sheet_name='Report',startrow=4)"
   ]
  },
  {
   "cell_type": "markdown",
   "id": "9a7c012c-5e32-4de0-9870-da97415a33c5",
   "metadata": {},
   "source": [
    "# Make the report with openpyxl\n",
    "\n",
    "## creating row & column reference"
   ]
  },
  {
   "cell_type": "code",
   "execution_count": 7,
   "id": "dc0e5089-3403-4d20-a3b3-9d6626c99533",
   "metadata": {},
   "outputs": [],
   "source": [
    "wb = load_workbook('report_2021.xlsx')\n",
    "sheet=wb['Report']\n",
    "\n",
    "#cell references(original spreadsheet)\n",
    "min_column = wb.active.min_column\n",
    "max_column = wb.active.max_column\n",
    "min_row = wb.active.min_row\n",
    "max_row = wb.active.max_row"
   ]
  },
  {
   "cell_type": "markdown",
   "id": "f0410ab4-6a3d-4756-93ae-90d9d4d22795",
   "metadata": {},
   "source": [
    "## adding excel charts through python"
   ]
  },
  {
   "cell_type": "code",
   "execution_count": 13,
   "id": "ac3c657b-ba27-47a1-99f5-c3a1561a81aa",
   "metadata": {},
   "outputs": [],
   "source": [
    "wb = load_workbook('report_2021.xlsx')\n",
    "sheet=wb['Report']\n",
    "\n",
    "#barchart\n",
    "barchart = BarChart()\n",
    "\n",
    "#locate data & categories\n",
    "data = Reference(sheet, min_col=min_column+1, max_col=max_column, min_row = min_row, max_row=max_row) # including headers\n",
    "\n",
    "categories = Reference(sheet, min_col=min_column, max_col=max_column, min_row = min_row+1, max_row=max_row) #not including headers\n",
    "\n",
    "#adding data & categories \n",
    "barchart.add_data(data, titles_from_data=True)\n",
    "barchart.set_categories(categories)\n",
    "\n",
    "#location chart\n",
    "sheet.add_chart(barchart, \"B12\")\n",
    "\n",
    "barchart.title = 'Sales by Product line'\n",
    "barchart.style = 5 #choose the chart style\n",
    "\n",
    "wb.save('report_2021.xlsx')"
   ]
  },
  {
   "cell_type": "markdown",
   "id": "5e2083d9-1d7a-4380-85f0-9e1387744789",
   "metadata": {},
   "source": [
    "## adding excel formulas through python"
   ]
  },
  {
   "cell_type": "code",
   "execution_count": 9,
   "id": "52c5783c-03e4-42ea-8013-2a109a2ea128",
   "metadata": {},
   "outputs": [],
   "source": [
    "sheet['B7'] ='=SUM(B5:B6)'\n",
    "sheet['B7'].style = 'Currency'"
   ]
  },
  {
   "cell_type": "code",
   "execution_count": 10,
   "id": "5aa6a292-2bfc-4d47-93bd-91f9b2016048",
   "metadata": {},
   "outputs": [
    {
     "name": "stdout",
     "output_type": "stream",
     "text": [
      "['A', 'B', 'C', 'D', 'E', 'F', 'G']\n"
     ]
    }
   ],
   "source": [
    "import string\n",
    "\n",
    "alphabet = list(string.ascii_uppercase)\n",
    "excel_alphabet = alphabet[0:max_column]\n",
    "print(excel_alphabet)"
   ]
  },
  {
   "cell_type": "code",
   "execution_count": 11,
   "id": "50b5f893-91f1-4dbf-80bc-c229353e0234",
   "metadata": {},
   "outputs": [],
   "source": [
    "wb = load_workbook('report_2021.xlsx')\n",
    "sheet=wb['Report']\n",
    "\n",
    "#sum in column B-G\n",
    "for i in excel_alphabet:\n",
    "    if i!='A':\n",
    "        sheet[f'{i}{max_row+1}'] = f'=SUM({i}{min_row+1}:{i}{max_row})'\n",
    "        sheet[f'{i}{max_row+1}'].style = 'Currency'\n",
    "        \n",
    "        #adding total label\n",
    "        sheet[f'{excel_alphabet[0]}{max_row+1}'] = 'Total'\n",
    "        wb.save('report_2021.xlsx')"
   ]
  },
  {
   "cell_type": "markdown",
   "id": "df55906a-10f6-44fe-869b-2c82ebc24cb2",
   "metadata": {},
   "source": [
    "## Formating the report sheet"
   ]
  },
  {
   "cell_type": "code",
   "execution_count": 12,
   "id": "7963d931-c03f-4c72-8c8b-a7747ddd2ed3",
   "metadata": {},
   "outputs": [],
   "source": [
    "wb = load_workbook('report_2021.xlsx')\n",
    "sheet = wb['Report']\n",
    "\n",
    "sheet['A1'] = 'Sales Report'\n",
    "sheet['A2'] =2021\n",
    "sheet['A1'].font = Font('Arial',bold=True, size=20)\n",
    "sheet['A2'].font = Font('Arial',bold=True, size=10)\n",
    "\n",
    "wb.save('report_2021.xlsx')"
   ]
  },
  {
   "cell_type": "markdown",
   "id": "e50779ae-dcae-4d4b-a8b5-66be2e8f9b91",
   "metadata": {},
   "source": [
    "# Automating the rport with a python function"
   ]
  },
  {
   "cell_type": "code",
   "execution_count": null,
   "id": "4a2b01b8-bb95-47b8-b73e-576e96ed62ff",
   "metadata": {},
   "outputs": [],
   "source": [
    "def automate_excel(file_name):\n",
    "    excel_file=pd.read_excel('filename')\n",
    "    excel_file[['Gender','Product line','Total']]\n",
    "    report_table = excel_file.pivot_table(index='Gender',columns='Product line',values='Total',aggfunc='sum').round(0)"
   ]
  }
 ],
 "metadata": {
  "kernelspec": {
   "display_name": "Python 3 (ipykernel)",
   "language": "python",
   "name": "python3"
  },
  "language_info": {
   "codemirror_mode": {
    "name": "ipython",
    "version": 3
   },
   "file_extension": ".py",
   "mimetype": "text/x-python",
   "name": "python",
   "nbconvert_exporter": "python",
   "pygments_lexer": "ipython3",
   "version": "3.8.8"
  }
 },
 "nbformat": 4,
 "nbformat_minor": 5
}
